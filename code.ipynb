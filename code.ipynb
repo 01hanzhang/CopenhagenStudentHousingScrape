{
 "cells": [
  {
   "cell_type": "code",
   "execution_count": null,
   "id": "f6239cd4-aef2-42e3-b880-d88e23031c50",
   "metadata": {},
   "outputs": [],
   "source": [
    "from selenium import webdriver\n",
    "import time\n",
    "from selenium.webdriver.common.by import By\n",
    "from selenium.webdriver.support.ui import WebDriverWait\n",
    "from selenium.webdriver.support import expected_conditions as EC\n",
    "\n",
    "driver = webdriver.Chrome()  # Ensure you have the correct driver for the browser\n",
    "driver.get('https://mit.s.dk/studiebolig/login/')\n",
    "\n",
    "username = driver.find_element(By.ID, 'id_username')\n",
    "password = driver.find_element(By.ID,'id_password')\n",
    "submit = driver.find_element(By.ID, 'id_login')\n",
    "\n",
    "# Enter your login information and submit\n",
    "username.send_keys(' yourusername')\n",
    "password.send_keys(' yourpasscode')\n",
    "submit.click()\n",
    "\n",
    "driver.get('https://mit.s.dk/studiebolig/home/')\n",
    "\n",
    "link = driver.find_element(By.CSS_SELECTOR, 'a[href=\"#collapse-10\"]')\n",
    "link.click()"
   ]
  },
  {
   "cell_type": "code",
   "execution_count": null,
   "id": "a774be80-64ec-4bf0-ba69-23f00c2561f3",
   "metadata": {},
   "outputs": [],
   "source": [
    "from selenium.common.exceptions import NoSuchElementException\n",
    "from selenium.common.exceptions import TimeoutException\n",
    "\n",
    "def click_until_gone(xpath):\n",
    "    try:\n",
    "        while True:\n",
    "            try:\n",
    "                button = WebDriverWait(driver, 5).until(\n",
    "                    EC.element_to_be_clickable((By.XPATH, xpath))\n",
    "                )\n",
    "                button.click()\n",
    "                WebDriverWait(driver, 5).until(\n",
    "                    EC.staleness_of(button)\n",
    "                )\n",
    "            except TimeoutException:\n",
    "                if driver.find_elements(By.XPATH, xpath):\n",
    "                    continue  # Button still there, loop will continue\n",
    "                print(\"Button no longer appears or is not clickable. Exiting loop.\")\n",
    "                break  # Button gone, exit loop\n",
    "    except NoSuchElementException:\n",
    "        print(\"Button was never present.\")\n",
    "\n",
    "button_xpath = '//*[@id=\"collapse-10\"]/div/div/div[2]/div/button'\n",
    "\n",
    "click_until_gone(button_xpath)\n"
   ]
  },
  {
   "cell_type": "code",
   "execution_count": null,
   "id": "917b75c2-868e-472d-82c8-fae89cb77e02",
   "metadata": {
    "scrolled": true
   },
   "outputs": [],
   "source": [
    "# Find all the <a> tags in the specified div\n",
    "\n",
    "links = driver.find_elements(By.CSS_SELECTOR, \"#collapse-10 > div > div > div.col-12.col-md-6.order-md-1 > div > a\")\n",
    "hrefs = []\n",
    "for link in links:\n",
    "    href = link.get_attribute('href')\n",
    "    print(href)\n",
    "    hrefs.append(href)"
   ]
  },
  {
   "cell_type": "code",
   "execution_count": null,
   "id": "93515fc2-9d7c-4e7b-801f-9919f725e869",
   "metadata": {},
   "outputs": [],
   "source": [
    "import pandas as pd\n",
    "from selenium.common.exceptions import NoSuchElementException\n",
    "\n",
    "df = pd.DataFrame(columns=['name', 'address', 'ranking', 'size & price', 'url'])\n",
    "\n",
    "for h in hrefs:\n",
    "    driver.get(h)\n",
    "    WebDriverWait(driver, 10).until(\n",
    "        EC.visibility_of_element_located((By.CSS_SELECTOR, 'body > main > form > header > h1'))\n",
    "    )\n",
    "    \n",
    "    # Initialize variables as None\n",
    "    name = None\n",
    "    address = None\n",
    "    ranking = None\n",
    "\n",
    "    # Attempt to get the name\n",
    "    try:\n",
    "        name = driver.find_element(By.CSS_SELECTOR, 'body > main > form > header > h1').text\n",
    "    except NoSuchElementException:\n",
    "        print(\"Name element not found for URL:\", h)\n",
    "\n",
    "    try:\n",
    "        price = driver.find_element(By.CSS_SELECTOR, \"#heading-1 > h3 > a > span > span > span\").get_attribute('innerText')\n",
    "    except NoSuchElementException:\n",
    "        print(\"Name element not found for URL:\", h)\n",
    "\n",
    "    # Attempt to get the address\n",
    "    try:\n",
    "        address = driver.find_element(By.CSS_SELECTOR, \"#collapse-1 > div > table > tbody > tr:nth-child(1) > td:nth-child(1) > a\").get_attribute('text')\n",
    "    except NoSuchElementException:\n",
    "        print(\"Address element not found for URL:\", h)\n",
    "\n",
    "    # Attempt to get the ranking\n",
    "    try:\n",
    "        ranking = driver.find_element(By.CSS_SELECTOR, '#collapse-1 > div > table > tbody > tr:nth-child(1) > td:nth-child(3) > a > span.waiting-list-category').get_attribute('innerText')\n",
    "        ranking = ranking.replace(\" \",\"\")[1] if ranking else None\n",
    "    except NoSuchElementException:\n",
    "        print(\"Ranking element not found for URL:\", h)\n",
    "\n",
    "    # Append the results to the DataFrame\n",
    "    df.loc[len(df.index)] = [name, address, ranking, price, h]\n",
    "\n",
    "driver.close()"
   ]
  },
  {
   "cell_type": "code",
   "execution_count": null,
   "id": "a159a321-1f1e-4a3c-badd-5f273e1c5322",
   "metadata": {},
   "outputs": [],
   "source": [
    "df"
   ]
  },
  {
   "cell_type": "code",
   "execution_count": null,
   "id": "bcc80487-4f46-49d1-9218-017c74c104e2",
   "metadata": {},
   "outputs": [],
   "source": [
    "df.to_csv('sdk.csv')"
   ]
  }
 ],
 "metadata": {
  "kernelspec": {
   "display_name": "Python 3 (ipykernel)",
   "language": "python",
   "name": "python3"
  },
  "language_info": {
   "codemirror_mode": {
    "name": "ipython",
    "version": 3
   },
   "file_extension": ".py",
   "mimetype": "text/x-python",
   "name": "python",
   "nbconvert_exporter": "python",
   "pygments_lexer": "ipython3",
   "version": "3.12.1"
  }
 },
 "nbformat": 4,
 "nbformat_minor": 5
}
